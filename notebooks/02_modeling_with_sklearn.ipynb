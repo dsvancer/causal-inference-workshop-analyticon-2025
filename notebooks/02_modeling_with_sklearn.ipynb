{
 "cells": [
  {
   "cell_type": "markdown",
   "id": "76e5d8c8",
   "metadata": {},
   "source": [
    "# Machine Learning with `scikit-learn`"
   ]
  },
  {
   "cell_type": "code",
   "execution_count": 1,
   "id": "92763a41",
   "metadata": {},
   "outputs": [],
   "source": [
    "import pandas as pd\n",
    "import numpy as np\n",
    "import matplotlib.pyplot as plt\n",
    "import seaborn as sns\n",
    "\n",
    "# Set style\n",
    "sns.set_style(\"whitegrid\") \n",
    "sns.set_palette('viridis')\n",
    "plt.rcParams['axes.spines.top'] = False\n",
    "plt.rcParams['axes.spines.right'] = False\n",
    "plt.rcParams['font.family'] = 'monospace'\n",
    "\n",
    "### Machine Learning\n",
    "## Cross validation and data resampling\n",
    "from sklearn.model_selection import train_test_split\n",
    "\n",
    "## Modeling\n",
    "from sklearn.linear_model import LogisticRegression\n",
    "\n",
    "## Model Evaluation\n",
    "from sklearn.metrics import (\n",
    "    confusion_matrix,\n",
    "    precision_score, \n",
    "    recall_score,\n",
    "    f1_score,\n",
    "    classification_report)"
   ]
  },
  {
   "cell_type": "markdown",
   "id": "99dd4ebe",
   "metadata": {},
   "source": [
    "## Basic Machine Learning Workflow\n",
    "Below is a commonly used workflow\n",
    "\n",
    "<br>\n",
    "<center>\n",
    "<img \n",
    "  src=\"../assets/model_process.png\" \n",
    "  alt=\"Modeling Process\" \n",
    "  style=\"width:auto;height:300px;\"\n",
    "> \n",
    "<br>\n",
    "<br>"
   ]
  },
  {
   "cell_type": "markdown",
   "id": "8c2d8a2f",
   "metadata": {},
   "source": [
    "### Data Resampling\n",
    "Splitting our data into a training and test set is important for evaluating model performance and estimating generalization to new data\n",
    "\n",
    "- **Under-fitting**\n",
    "    - Model can't capture complex trends in the data\n",
    "    - Give away - poor performance on both training and test datasets\n",
    "\n",
    "<br>\n",
    "<br>\n",
    "<center>\n",
    "<img \n",
    "  src=\"../assets/under_fitting.png\" \n",
    "  alt=\"Underfitting\" \n",
    "  style=\"width:auto;height:375px;\"\n",
    "> \n",
    "<br>\n",
    "<br>"
   ]
  },
  {
   "cell_type": "markdown",
   "id": "aa66bd8b",
   "metadata": {},
   "source": [
    "<br>\n",
    "\n",
    "- **Over-fitting**\n",
    "    - Model finds trends that don't exist\n",
    "    - Give away - great performance training data and *poor performance test dataset*\n",
    "\n",
    "<br>\n",
    "<br>\n",
    "\n",
    "<center>\n",
    "<img \n",
    "  src=\"../assets/under_fitting.png\" \n",
    "  alt=\"Underfitting\" \n",
    "  style=\"width:auto;height:375px;\"\n",
    "> \n",
    "<br>\n",
    "<br>"
   ]
  },
  {
   "cell_type": "markdown",
   "id": "0d223df1",
   "metadata": {},
   "source": [
    "### Optimal Complexity\n",
    "\n",
    "Generally, as we go from simple models to more complex:\n",
    "- Training error continues to decrease (potentially reaching zero!)\n",
    "- Test error decreases initially, but increases when we are over-fitting\n",
    "- Goal is to find the optimal model complexity to ensure good performance on new data\n",
    "\n",
    "<br>\n",
    "<br>\n",
    "\n",
    "<center>\n",
    "<img \n",
    "  src=\"../assets/optimal_complexity.png\" \n",
    "  alt=\"Underfitting\" \n",
    "  style=\"width:auto;height:375px;\"\n",
    "> \n",
    "<br>\n",
    "<br>"
   ]
  },
  {
   "cell_type": "markdown",
   "id": "27a90570",
   "metadata": {},
   "source": [
    "## Model Objects in `scikit-learn`\n",
    "\n",
    "Each model is defined as its own object in `sklearn` with `fit()` and `predict()` methods.\n",
    "\n",
    "A huge benefit of using `scikit-learn` for machine learning is its amazing [documentation](https://scikit-learn.org/stable/index.html)"
   ]
  },
  {
   "cell_type": "markdown",
   "id": "38eba793",
   "metadata": {},
   "source": []
  }
 ],
 "metadata": {
  "kernelspec": {
   "display_name": "venv (3.10.11)",
   "language": "python",
   "name": "python3"
  },
  "language_info": {
   "codemirror_mode": {
    "name": "ipython",
    "version": 3
   },
   "file_extension": ".py",
   "mimetype": "text/x-python",
   "name": "python",
   "nbconvert_exporter": "python",
   "pygments_lexer": "ipython3",
   "version": "3.10.11"
  }
 },
 "nbformat": 4,
 "nbformat_minor": 5
}
