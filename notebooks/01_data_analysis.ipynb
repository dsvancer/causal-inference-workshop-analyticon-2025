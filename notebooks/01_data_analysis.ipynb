{
 "cells": [
  {
   "cell_type": "markdown",
   "id": "6c92ea9e",
   "metadata": {},
   "source": [
    "# Discovering Relationships with Measures of Association"
   ]
  },
  {
   "cell_type": "markdown",
   "id": "b50b9e4b",
   "metadata": {},
   "source": [
    "## Environment Setup and Data"
   ]
  },
  {
   "cell_type": "code",
   "execution_count": null,
   "id": "a38e881b",
   "metadata": {},
   "outputs": [],
   "source": [
    "import pandas as pd\n",
    "import numpy as np\n",
    "import matplotlib.pyplot as plt\n",
    "import seaborn as sns\n",
    "import phik\n",
    "\n",
    "# Set style\n",
    "sns.set_style(\"whitegrid\") \n",
    "sns.set_palette('viridis')\n",
    "plt.rcParams['axes.spines.top'] = False\n",
    "plt.rcParams['axes.spines.right'] = False\n",
    "plt.rcParams['font.family'] = 'monospace'"
   ]
  },
  {
   "cell_type": "code",
   "execution_count": null,
   "id": "3b0b336e",
   "metadata": {},
   "outputs": [],
   "source": [
    "# Load data\n",
    "potential_outcomes_df = pd.read_pickle('../data/potential_outcomes_df.pkl')\n",
    "observational_df = pd.read_pickle('../data/observational_df.pkl')"
   ]
  },
  {
   "cell_type": "markdown",
   "id": "af6edd30",
   "metadata": {},
   "source": [
    "## Causal Mechanisms\n",
    "\n",
    "<center>\n",
    "<img \n",
    "  src=\"../assets/confounding_bias.png\" \n",
    "  alt=\"Confounding Relationships\" \n",
    "  style=\"width:500px;height:auto;\"\n",
    "> "
   ]
  },
  {
   "cell_type": "code",
   "execution_count": null,
   "id": "22c040d6",
   "metadata": {},
   "outputs": [],
   "source": [
    "# Observational data\n",
    "observational_df.head()"
   ]
  },
  {
   "cell_type": "markdown",
   "id": "8e8114df",
   "metadata": {},
   "source": [
    "### True Causal Effects\n"
   ]
  },
  {
   "cell_type": "code",
   "execution_count": null,
   "id": "54c60234",
   "metadata": {},
   "outputs": [],
   "source": [
    "potential_outcomes_df.head()"
   ]
  },
  {
   "cell_type": "markdown",
   "id": "f9e06827",
   "metadata": {},
   "source": [
    "### Dangers of Unadjusted Estimates"
   ]
  },
  {
   "cell_type": "code",
   "execution_count": null,
   "id": "7ed28815",
   "metadata": {},
   "outputs": [],
   "source": [
    "# Check treatment effect\n",
    "signup_rate_by_treatment = potential_outcomes_df.groupby('upsell_marketing')['amu_signup'].mean()\n",
    "print(f\"Signup rates by treatment group:\\n{signup_rate_by_treatment}\")\n",
    "\n",
    "# Plot distribution\n",
    "plt.figure(figsize=(8, 6))\n",
    "potential_outcomes_df.groupby('upsell_marketing')['amu_signup'].mean().plot(kind='bar', color=['tab:blue', 'tab:green'])\n",
    "plt.title(\"Signup Rate by Upsell Message Exposure\")\n",
    "plt.xlabel(\"Upsell Marketing (0 = No, 1 = Yes)\")\n",
    "plt.ylabel(\"Signup Rate\")\n",
    "plt.xticks(rotation=0)\n",
    "plt.show()"
   ]
  },
  {
   "cell_type": "code",
   "execution_count": null,
   "id": "34b8f360",
   "metadata": {},
   "outputs": [],
   "source": [
    "biased_lift = (\n",
    "    (potential_outcomes_df['amu_signup'][potential_outcomes_df.upsell_marketing==1].mean()) - \n",
    "    (potential_outcomes_df['amu_signup'][potential_outcomes_df.upsell_marketing==0].mean())\n",
    ")\n",
    "\n",
    "actual_lift = potential_outcomes_df.individual_treatment_effect.mean()\n",
    "print(\n",
    "    f'Biased Marketing Lift: {biased_lift:.2%}',\n",
    "    f'Acutal Marketing Lift: {actual_lift:.2%}', \n",
    "    sep='\\n'\n",
    ")"
   ]
  }
 ],
 "metadata": {
  "kernelspec": {
   "display_name": "venv (3.10.11)",
   "language": "python",
   "name": "python3"
  },
  "language_info": {
   "codemirror_mode": {
    "name": "ipython",
    "version": 3
   },
   "file_extension": ".py",
   "mimetype": "text/x-python",
   "name": "python",
   "nbconvert_exporter": "python",
   "pygments_lexer": "ipython3",
   "version": "3.10.11"
  }
 },
 "nbformat": 4,
 "nbformat_minor": 5
}
