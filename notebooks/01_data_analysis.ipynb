{
 "cells": [
  {
   "cell_type": "markdown",
   "id": "6c92ea9e",
   "metadata": {},
   "source": [
    "# Data Analysis and Causal Mechanisms"
   ]
  },
  {
   "cell_type": "markdown",
   "id": "b50b9e4b",
   "metadata": {},
   "source": [
    "## Environment Setup and Data"
   ]
  },
  {
   "cell_type": "code",
   "execution_count": null,
   "id": "a38e881b",
   "metadata": {},
   "outputs": [],
   "source": [
    "import pandas as pd\n",
    "import numpy as np\n",
    "import matplotlib.pyplot as plt\n",
    "import seaborn as sns\n",
    "import phik\n",
    "\n",
    "# Set style\n",
    "sns.set_style(\"whitegrid\") \n",
    "sns.set_palette('viridis')\n",
    "plt.rcParams['axes.spines.top'] = False\n",
    "plt.rcParams['axes.spines.right'] = False\n",
    "plt.rcParams['font.family'] = 'monospace'"
   ]
  },
  {
   "cell_type": "code",
   "execution_count": null,
   "id": "3b0b336e",
   "metadata": {},
   "outputs": [],
   "source": [
    "# Load data\n",
    "potential_outcomes_df = pd.read_pickle('../data/potential_outcomes_df.pkl')\n",
    "observational_df = pd.read_pickle('../data/observational_df.pkl')"
   ]
  },
  {
   "cell_type": "markdown",
   "id": "af6edd30",
   "metadata": {},
   "source": [
    "## Causal Mechanisms\n",
    "\n",
    "<center>\n",
    "<img \n",
    "  src=\"../assets/confounding_bias.png\" \n",
    "  alt=\"Confounding Relationships\" \n",
    "  style=\"width:500px;height:auto;\"\n",
    "> "
   ]
  },
  {
   "cell_type": "code",
   "execution_count": null,
   "id": "22c040d6",
   "metadata": {},
   "outputs": [],
   "source": [
    "# Observational data\n",
    "observational_df.head()"
   ]
  },
  {
   "cell_type": "markdown",
   "id": "8e8114df",
   "metadata": {},
   "source": [
    "### True Causal Effects\n"
   ]
  },
  {
   "cell_type": "code",
   "execution_count": null,
   "id": "54c60234",
   "metadata": {},
   "outputs": [],
   "source": [
    "potential_outcomes_df.head()"
   ]
  },
  {
   "cell_type": "markdown",
   "id": "f9e06827",
   "metadata": {},
   "source": [
    "### Dangers of Unadjusted Estimates\n",
    "\n",
    "<center>\n",
    "<img \n",
    "  src=\"../assets/correlation_causation.png\" \n",
    "  alt=\"Correlation is not causation\" \n",
    "  style=\"width:250px;height:auto;\"\n",
    "> "
   ]
  },
  {
   "cell_type": "code",
   "execution_count": null,
   "id": "7ed28815",
   "metadata": {},
   "outputs": [],
   "source": [
    "# Check treatment effect\n",
    "signup_rate_by_treatment = potential_outcomes_df.groupby('upsell_marketing')['amu_signup'].mean()\n",
    "print(f\"Signup rates by treatment group: {signup_rate_by_treatment}\")\n",
    "\n",
    "# Plot distribution\n",
    "plt.figure(figsize=(8, 6))\n",
    "potential_outcomes_df.groupby('upsell_marketing')['amu_signup'].mean().plot(kind='bar', color=['tab:blue', 'tab:green'])\n",
    "plt.title(\"Signup Rate by Upsell Message Exposure\")\n",
    "plt.xlabel(\"Upsell Marketing (0 = No, 1 = Yes)\")\n",
    "plt.ylabel(\"Signup Rate\")\n",
    "plt.xticks(rotation=0)\n",
    "plt.show()"
   ]
  },
  {
   "cell_type": "code",
   "execution_count": null,
   "id": "34b8f360",
   "metadata": {},
   "outputs": [],
   "source": [
    "# Difference in conversion rates by teatment type\n",
    "biased_lift = (\n",
    "    (potential_outcomes_df['amu_signup'][potential_outcomes_df.upsell_marketing==1].mean()) - \n",
    "    (potential_outcomes_df['amu_signup'][potential_outcomes_df.upsell_marketing==0].mean())\n",
    ")\n",
    "\n",
    "# True average treatment effect based on ITE\n",
    "actual_lift = potential_outcomes_df.individual_treatment_effect.mean()\n",
    "print(\n",
    "    f'Biased Marketing Lift: {biased_lift:.2%}',\n",
    "    f'Acutal Marketing Lift: {actual_lift:.2%}', \n",
    "    sep='\\n'\n",
    ")"
   ]
  },
  {
   "cell_type": "markdown",
   "id": "17a55d2b",
   "metadata": {},
   "source": [
    "## Exploratory Data Analysis"
   ]
  },
  {
   "cell_type": "code",
   "execution_count": null,
   "id": "fa9c7456",
   "metadata": {},
   "outputs": [],
   "source": [
    "## Summary Statistics\n",
    "(\n",
    "    observational_df\n",
    "    .describe()\n",
    "    .drop('count')\n",
    "    .style\n",
    "    .format(\n",
    "        {\n",
    "            'amu_signup': '{:.1%}',\n",
    "            'upsell_marketing': '{:.1%}',\n",
    "            'streaming_tier_prime': '{:.1%}',\n",
    "            'play_days': '{:,.2f}',\n",
    "            'songs_listened': '{:,.2f}',\n",
    "            'other_subscriptions': '{:.1%}',\n",
    "            'retail_spending': '${:,.2f}'\n",
    "        }\n",
    "        )\n",
    ")"
   ]
  },
  {
   "cell_type": "code",
   "execution_count": null,
   "id": "7c90e930",
   "metadata": {},
   "outputs": [],
   "source": [
    "# Customer features by treatment\n",
    "## Summary Statistics\n",
    "(\n",
    "    observational_df\n",
    "    .groupby('upsell_marketing', as_index=False)\n",
    "    .mean()\n",
    "    .style\n",
    "    .format(\n",
    "        {\n",
    "            'amu_signup': '{:.1%}',\n",
    "            'streaming_tier_prime': '{:.1%}',\n",
    "            'play_days': '{:,.2f}',\n",
    "            'songs_listened': '{:,.2f}',\n",
    "            'other_subscriptions': '{:.1%}',\n",
    "            'retail_spending': '${:,.2f}'\n",
    "        }\n",
    "        )\n",
    ")"
   ]
  },
  {
   "cell_type": "markdown",
   "id": "29dd8822",
   "metadata": {},
   "source": [
    "### Randomized Control Trials\n",
    "RCTs remove confounding bias but making the control (no-upsell) and treatment (upsell) groups similiar on their attributes and behavorial profiles"
   ]
  },
  {
   "cell_type": "code",
   "execution_count": null,
   "id": "f2f5ad42",
   "metadata": {},
   "outputs": [],
   "source": [
    "(\n",
    "    potential_outcomes_df\n",
    "    .filter(\n",
    "        items=[\n",
    "            'upsell_marketing_rct', 'amu_signup', \n",
    "            'streaming_tier_prime', 'play_days', \n",
    "            'songs_listened', 'other_subscriptions', \n",
    "            'retail_spending'], axis=1)\n",
    "    .groupby('upsell_marketing_rct', as_index=False)\n",
    "    .mean()\n",
    "    .style\n",
    "    .format(\n",
    "        {\n",
    "            'amu_signup': '{:.1%}',\n",
    "            'streaming_tier_prime': '{:.1%}',\n",
    "            'play_days': '{:,.2f}',\n",
    "            'songs_listened': '{:,.2f}',\n",
    "            'other_subscriptions': '{:.1%}',\n",
    "            'retail_spending': '${:,.2f}'\n",
    "        }\n",
    "    )\n",
    ")"
   ]
  },
  {
   "cell_type": "markdown",
   "id": "3238850a",
   "metadata": {},
   "source": [
    "What do RCTs do to our estimates of the causal effect?\n",
    "- They remove bias and provide accurate estimates of the true causal effects of treatment!"
   ]
  },
  {
   "cell_type": "code",
   "execution_count": null,
   "id": "351915dc",
   "metadata": {},
   "outputs": [],
   "source": [
    "# Difference in conversion rates by teatment type in an RCT\n",
    "rct_lift = (\n",
    "    (potential_outcomes_df['amu_signup_rct'][potential_outcomes_df.upsell_marketing_rct==1].mean()) - \n",
    "    (potential_outcomes_df['amu_signup_rct'][potential_outcomes_df.upsell_marketing_rct==0].mean())\n",
    ")\n",
    "\n",
    "# True average treatment effect based on ITE\n",
    "actual_lift = potential_outcomes_df.individual_treatment_effect.mean()\n",
    "print(\n",
    "    f'RCT Marketing Lift: {rct_lift:.2%}',\n",
    "    f'Acutal Marketing Lift: {actual_lift:.2%}', \n",
    "    sep='\\n'\n",
    ")"
   ]
  }
 ],
 "metadata": {
  "kernelspec": {
   "display_name": "venv (3.10.11)",
   "language": "python",
   "name": "python3"
  },
  "language_info": {
   "codemirror_mode": {
    "name": "ipython",
    "version": 3
   },
   "file_extension": ".py",
   "mimetype": "text/x-python",
   "name": "python",
   "nbconvert_exporter": "python",
   "pygments_lexer": "ipython3",
   "version": "3.10.11"
  }
 },
 "nbformat": 4,
 "nbformat_minor": 5
}
