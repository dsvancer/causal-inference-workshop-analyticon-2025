{
 "cells": [
  {
   "cell_type": "markdown",
   "id": "6c92ea9e",
   "metadata": {},
   "source": [
    "# Data Analysis and Causal Mechanisms"
   ]
  },
  {
   "cell_type": "markdown",
   "id": "b50b9e4b",
   "metadata": {},
   "source": [
    "## Environment Setup and Data"
   ]
  },
  {
   "cell_type": "code",
   "execution_count": null,
   "id": "a38e881b",
   "metadata": {},
   "outputs": [],
   "source": [
    "import pandas as pd\n",
    "import numpy as np\n",
    "import matplotlib.pyplot as plt\n",
    "import seaborn as sns\n",
    "\n",
    "# Set style\n",
    "sns.set_style(\"whitegrid\") \n",
    "sns.set_palette('viridis')\n",
    "plt.rcParams['axes.spines.top'] = False\n",
    "plt.rcParams['axes.spines.right'] = False\n",
    "plt.rcParams['font.family'] = 'monospace'"
   ]
  },
  {
   "cell_type": "code",
   "execution_count": null,
   "id": "3b0b336e",
   "metadata": {},
   "outputs": [],
   "source": [
    "# Load data\n",
    "potential_outcomes_df = pd.read_pickle('../data/potential_outcomes_df.pkl')\n",
    "observational_df = pd.read_pickle('../data/observational_df.pkl')"
   ]
  },
  {
   "cell_type": "markdown",
   "id": "af6edd30",
   "metadata": {},
   "source": [
    "## Causal Mechanisms\n",
    "\n",
    "<center>\n",
    "<img \n",
    "  src=\"../assets/confounding_bias.png\" \n",
    "  alt=\"Confounding Relationships\" \n",
    "  style=\"width:500px;height:auto;\"\n",
    "> "
   ]
  },
  {
   "cell_type": "code",
   "execution_count": null,
   "id": "22c040d6",
   "metadata": {},
   "outputs": [],
   "source": [
    "# Observational data\n",
    "observational_df.head()"
   ]
  },
  {
   "cell_type": "markdown",
   "id": "8e8114df",
   "metadata": {},
   "source": [
    "### True Causal Effects\n",
    "The `observational_df` data frame contains data that we might observe during a typically business process. It contains hidden causal mechanisms, such as confounding bias, that affects treatment assignment (Upsell Marketing) as well as the outcome (AMU Signup)\n",
    "\n",
    "\n",
    "#### Treatment Assignment Mechanism\n",
    "Our observational data was simulated with known mechanisms for confounding and the true causal effects are stored in the `potential_outcomes_df` data frame. Many of the columns in this data would be impossible to observe in reality, but it is helpful to see them to gain a deep understanding of the goals of causal inference models\n",
    "\n",
    "Let's go through the different aspects of these unobservable features"
   ]
  },
  {
   "cell_type": "code",
   "execution_count": null,
   "id": "54c60234",
   "metadata": {},
   "outputs": [],
   "source": [
    "potential_outcomes_df.head()"
   ]
  },
  {
   "cell_type": "markdown",
   "id": "b0f8d1dc",
   "metadata": {},
   "source": [
    "#### Potential Outcomes\n",
    "Causal inference is based on the concept of potential outcomes. Potential outcomes denote what would have happened in the case where some treatment was administered.\n",
    "\n",
    "For every customer in our data, we have two potential outcomes:\n",
    "- $Y^{0}$ denotes the outcome that would have happened if the customer did not get treated (did not see an upsell marketing message)\n",
    "- $Y^{1}$ denotes the outcome that would have happened if the customer did see an upsell marketing message\n",
    "\n",
    "The fundamental problem of causal inference is the fact that it is impossible to observe both of the potential outcomes for the same individual. Instead, we get the outcome Y, which is the realization of either $Y^{0}$ or $Y^{1}$ depending on treatment assignment.\n",
    "\n",
    "In our `potential_outcomes_df`, we have the true potential outcome likelihoods as well as the individual treatment effects for all customers. In the real world, these are hidden from us!\n",
    "\n",
    "In our simulated data, each customer has a baseline probability of 0.05 to signup for AMU in the absence of upsell marketing exposure. The `y_1_propensity` is the change to the baseline probability as a function of the customers confounding features. The more activity a customer is, the more likely they are to signup for our service if shown as upsell message"
   ]
  },
  {
   "cell_type": "code",
   "execution_count": null,
   "id": "907f2deb",
   "metadata": {},
   "outputs": [],
   "source": [
    "potential_outcomes_df \\\n",
    ".drop(\n",
    "    columns=['upsell_marketing', 'upsell_confounding_propensity', 'amu_signup_rct', 'upsell_marketing_rct']) \\\n",
    ".head()"
   ]
  },
  {
   "cell_type": "markdown",
   "id": "89c60bc1",
   "metadata": {},
   "source": [
    "#### Confounding in Treatment Assignment\n",
    "The `potential_outcomes_df` also has the true causal mechanism for treatment assignment encoded in the `upsell_confounding_propensity` column. This measures the likelihood a customers sees an upsell marketing message as a function of their activity. In the real world, this is also hidden from us!"
   ]
  },
  {
   "cell_type": "code",
   "execution_count": null,
   "id": "bc0aec5b",
   "metadata": {},
   "outputs": [],
   "source": [
    "potential_outcomes_df \\\n",
    ".drop(\n",
    "    columns=[\n",
    "        'y_0_propensity', 'y_1_propensity', 'individual_treatment_effect', 'amu_signup_rct', 'upsell_marketing_rct']) \\\n",
    ".head()"
   ]
  },
  {
   "cell_type": "markdown",
   "id": "f9e06827",
   "metadata": {},
   "source": [
    "### Dangers of Unadjusted Estimates\n",
    "\n",
    "<center>\n",
    "<img \n",
    "  src=\"../assets/correlation_causation.png\" \n",
    "  alt=\"Correlation is not causation\" \n",
    "  style=\"width:300px;height:auto;\"\n",
    "> "
   ]
  },
  {
   "cell_type": "code",
   "execution_count": null,
   "id": "7ed28815",
   "metadata": {},
   "outputs": [],
   "source": [
    "# Check treatment effect\n",
    "signup_rate_by_treatment = potential_outcomes_df.groupby('upsell_marketing')['amu_signup'].mean()\n",
    "print(f\"Signup rates by treatment group: {signup_rate_by_treatment}\")\n",
    "\n",
    "# Plot distribution\n",
    "plt.figure(figsize=(8, 6))\n",
    "potential_outcomes_df.groupby('upsell_marketing')['amu_signup'].mean().plot(kind='bar', color=['tab:blue', 'tab:green'])\n",
    "plt.title(\"Signup Rate by Upsell Message Exposure\")\n",
    "plt.xlabel(\"Upsell Marketing (0 = No, 1 = Yes)\")\n",
    "plt.ylabel(\"Signup Rate\")\n",
    "plt.xticks(rotation=0)\n",
    "plt.show()"
   ]
  },
  {
   "cell_type": "code",
   "execution_count": null,
   "id": "34b8f360",
   "metadata": {},
   "outputs": [],
   "source": [
    "# Difference in conversion rates by teatment type\n",
    "biased_lift = (\n",
    "    (potential_outcomes_df['amu_signup'][potential_outcomes_df.upsell_marketing==1].mean()) - \n",
    "    (potential_outcomes_df['amu_signup'][potential_outcomes_df.upsell_marketing==0].mean())\n",
    ")\n",
    "\n",
    "# True average treatment effect based on ITE\n",
    "actual_lift = potential_outcomes_df.individual_treatment_effect.mean()\n",
    "print(\n",
    "    f'Biased Marketing Lift: {biased_lift:.2%}',\n",
    "    f'Acutal Marketing Lift: {actual_lift:.2%}', \n",
    "    sep='\\n'\n",
    ")"
   ]
  },
  {
   "cell_type": "markdown",
   "id": "17a55d2b",
   "metadata": {},
   "source": [
    "## Exploratory Data Analysis"
   ]
  },
  {
   "cell_type": "markdown",
   "id": "88f1769a",
   "metadata": {},
   "source": [
    "### Correlation\n",
    "\n",
    "Correlation measures the **linear** relationship between two numeric datasets.\n",
    "\n",
    "Ranges from -1 to 1\n",
    "\n",
    "Below are some common patterns that would appear in a scatter plot for different correlation values\n",
    "\n",
    "<br>\n",
    "<center>\n",
    "<img \n",
    "  src=\"../assets/negative_correlation.png\" \n",
    "  alt=\"Negative Correlation\" \n",
    "  style=\"width:auto;height:auto;\"\n",
    "> \n",
    "<br>\n",
    "<br>\n",
    "\n",
    "<br>\n",
    "<center>\n",
    "<img \n",
    "  src=\"../assets/positive_correlation.png\" \n",
    "  alt=\"Positive Correlation\" \n",
    "  style=\"width:auto;height:auto;\"\n",
    "> \n",
    "<br>\n",
    "<br>\n",
    "\n",
    "\n",
    "<br>\n",
    "<center>\n",
    "<img \n",
    "  src=\"../assets/zero_correlation.png\" \n",
    "  alt=\"Zero Correlation\" \n",
    "  style=\"width:auto;height:auto;\"\n",
    "> \n",
    "<br>\n",
    "<br>\n"
   ]
  },
  {
   "cell_type": "markdown",
   "id": "474a48eb",
   "metadata": {},
   "source": [
    "**Beware**: A correlation of zero does not imply a lack of association/relationship between two numeric datasets\n",
    "\n",
    "<br>\n",
    "<center>\n",
    "<img \n",
    "  src=\"../assets/non_linear_relationship.png\" \n",
    "  alt=\"Non Linear Relationship\" \n",
    "  style=\"width:auto;height:auto;\"\n",
    "> \n",
    "<br>\n",
    "<br>"
   ]
  },
  {
   "cell_type": "code",
   "execution_count": null,
   "id": "0fb456ad",
   "metadata": {},
   "outputs": [],
   "source": [
    "observational_df \\\n",
    ".corr() \\\n",
    ".style \\\n",
    ".background_gradient(cmap='coolwarm_r', vmin=-1, vmax=1) \\\n",
    ".format('{:.2f}')"
   ]
  },
  {
   "cell_type": "code",
   "execution_count": null,
   "id": "fa9c7456",
   "metadata": {},
   "outputs": [],
   "source": [
    "## Summary Statistics\n",
    "observational_df \\\n",
    ".describe() \\\n",
    ".drop('count') \\\n",
    ".style \\\n",
    ".format({\n",
    "    'amu_signup': '{:.1%}',\n",
    "    'upsell_marketing': '{:.1%}',\n",
    "    'streaming_tier_prime': '{:.1%}',\n",
    "    'play_days': '{:,.2f}',\n",
    "    'songs_listened': '{:,.2f}',\n",
    "    'other_subscriptions': '{:.1%}',\n",
    "    'retail_spending': '${:,.2f}'})"
   ]
  },
  {
   "cell_type": "code",
   "execution_count": null,
   "id": "7c90e930",
   "metadata": {},
   "outputs": [],
   "source": [
    "# Customer features by treatment\n",
    "## Summary Statistics\n",
    "observational_df \\\n",
    ".groupby('upsell_marketing', as_index=False) \\\n",
    ".mean() \\\n",
    ".style \\\n",
    ".format({\n",
    "    'amu_signup': '{:.1%}',\n",
    "    'streaming_tier_prime': '{:.1%}',\n",
    "    'play_days': '{:,.2f}',\n",
    "    'songs_listened': '{:,.2f}',\n",
    "    'other_subscriptions': '{:.1%}',\n",
    "    'retail_spending': '${:,.2f}'})"
   ]
  },
  {
   "cell_type": "markdown",
   "id": "29dd8822",
   "metadata": {},
   "source": [
    "### Randomized Control Trials\n",
    "RCTs remove confounding bias but making the control (no-upsell) and treatment (upsell) groups similiar on their attributes and behavorial profiles"
   ]
  },
  {
   "cell_type": "code",
   "execution_count": null,
   "id": "23e594c9",
   "metadata": {},
   "outputs": [],
   "source": [
    "potential_outcomes_df \\\n",
    ".filter(\n",
    "    items=['amu_signup', 'upsell_marketing', 'amu_signup_rct', 'upsell_marketing_rct']) \\\n",
    ".head()"
   ]
  },
  {
   "cell_type": "code",
   "execution_count": null,
   "id": "f2f5ad42",
   "metadata": {},
   "outputs": [],
   "source": [
    "potential_outcomes_df \\\n",
    ".filter(\n",
    "    items=[\n",
    "        'upsell_marketing_rct', 'amu_signup', \n",
    "        'streaming_tier_prime', 'play_days', \n",
    "        'songs_listened', 'other_subscriptions', \n",
    "        'retail_spending'], axis=1) \\\n",
    ".groupby('upsell_marketing_rct', as_index=False) \\\n",
    ".mean() \\\n",
    ".style \\\n",
    ".format({\n",
    "    'amu_signup': '{:.1%}',\n",
    "    'streaming_tier_prime': '{:.1%}',\n",
    "    'play_days': '{:,.2f}',\n",
    "    'songs_listened': '{:,.2f}',\n",
    "    'other_subscriptions': '{:.1%}',\n",
    "    'retail_spending': '${:,.2f}'})"
   ]
  },
  {
   "cell_type": "markdown",
   "id": "3238850a",
   "metadata": {},
   "source": [
    "What do RCTs do to our estimates of the causal effect?\n",
    "- They remove bias and provide accurate estimates of the true causal effects of treatment!"
   ]
  },
  {
   "cell_type": "code",
   "execution_count": null,
   "id": "351915dc",
   "metadata": {},
   "outputs": [],
   "source": [
    "# Difference in conversion rates by teatment type in an RCT\n",
    "rct_lift = (\n",
    "    (potential_outcomes_df['amu_signup_rct'][potential_outcomes_df.upsell_marketing_rct==1].mean()) - \n",
    "    (potential_outcomes_df['amu_signup_rct'][potential_outcomes_df.upsell_marketing_rct==0].mean())\n",
    ")\n",
    "\n",
    "# True average treatment effect based on ITE\n",
    "actual_lift = potential_outcomes_df.individual_treatment_effect.mean()\n",
    "print(\n",
    "    f'RCT Marketing Lift: {rct_lift:.2%}',\n",
    "    f'Acutal Marketing Lift: {actual_lift:.2%}', \n",
    "    sep='\\n'\n",
    ")"
   ]
  }
 ],
 "metadata": {
  "kernelspec": {
   "display_name": "venv (3.10.11)",
   "language": "python",
   "name": "python3"
  },
  "language_info": {
   "codemirror_mode": {
    "name": "ipython",
    "version": 3
   },
   "file_extension": ".py",
   "mimetype": "text/x-python",
   "name": "python",
   "nbconvert_exporter": "python",
   "pygments_lexer": "ipython3",
   "version": "3.10.11"
  }
 },
 "nbformat": 4,
 "nbformat_minor": 5
}
