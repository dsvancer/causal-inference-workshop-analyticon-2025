{
 "cells": [
  {
   "cell_type": "markdown",
   "id": "6c92ea9e",
   "metadata": {},
   "source": [
    "# Discovering Relationships with Measures of Association"
   ]
  },
  {
   "cell_type": "markdown",
   "id": "b50b9e4b",
   "metadata": {},
   "source": [
    "## Environment Setup and Data"
   ]
  },
  {
   "cell_type": "code",
   "execution_count": 4,
   "id": "a38e881b",
   "metadata": {},
   "outputs": [],
   "source": [
    "import pandas as pd\n",
    "import numpy as np\n",
    "import matplotlib.pyplot as plt\n",
    "import seaborn as sns\n",
    "import phik\n",
    "\n",
    "# Set style\n",
    "sns.set_style(\"whitegrid\") \n",
    "sns.set_palette('viridis')\n",
    "plt.rcParams['axes.spines.top'] = False\n",
    "plt.rcParams['axes.spines.right'] = False\n",
    "plt.rcParams['font.family'] = 'monospace'"
   ]
  },
  {
   "cell_type": "code",
   "execution_count": 5,
   "id": "3b0b336e",
   "metadata": {},
   "outputs": [],
   "source": [
    "# Load data\n",
    "potential_outcomes_df = pd.read_pickle('../data/potential_outcomes_df.pkl')\n",
    "observational_df = pd.read_pickle('../data/observational_df.pkl')"
   ]
  },
  {
   "cell_type": "markdown",
   "id": "af6edd30",
   "metadata": {},
   "source": [
    "## Causal Mechanisms\n",
    "\n",
    "<center>\n",
    "<img \n",
    "  src=\"../assets/confounding_bias.png\" \n",
    "  alt=\"Confounding Relationships\" \n",
    "  style=\"width:500px;height:auto;\"\n",
    "> "
   ]
  },
  {
   "cell_type": "code",
   "execution_count": 8,
   "id": "22c040d6",
   "metadata": {},
   "outputs": [
    {
     "data": {
      "text/html": [
       "<div>\n",
       "<style scoped>\n",
       "    .dataframe tbody tr th:only-of-type {\n",
       "        vertical-align: middle;\n",
       "    }\n",
       "\n",
       "    .dataframe tbody tr th {\n",
       "        vertical-align: top;\n",
       "    }\n",
       "\n",
       "    .dataframe thead th {\n",
       "        text-align: right;\n",
       "    }\n",
       "</style>\n",
       "<table border=\"1\" class=\"dataframe\">\n",
       "  <thead>\n",
       "    <tr style=\"text-align: right;\">\n",
       "      <th></th>\n",
       "      <th>amu_signup</th>\n",
       "      <th>upsell_marketing</th>\n",
       "      <th>streaming_tier</th>\n",
       "      <th>play_days</th>\n",
       "      <th>songs_listened</th>\n",
       "      <th>other_subscriptions</th>\n",
       "      <th>retail_spending</th>\n",
       "    </tr>\n",
       "  </thead>\n",
       "  <tbody>\n",
       "    <tr>\n",
       "      <th>0</th>\n",
       "      <td>0</td>\n",
       "      <td>0</td>\n",
       "      <td>1</td>\n",
       "      <td>0</td>\n",
       "      <td>0</td>\n",
       "      <td>0</td>\n",
       "      <td>35.0</td>\n",
       "    </tr>\n",
       "    <tr>\n",
       "      <th>1</th>\n",
       "      <td>0</td>\n",
       "      <td>1</td>\n",
       "      <td>0</td>\n",
       "      <td>30</td>\n",
       "      <td>120</td>\n",
       "      <td>0</td>\n",
       "      <td>0.0</td>\n",
       "    </tr>\n",
       "    <tr>\n",
       "      <th>2</th>\n",
       "      <td>0</td>\n",
       "      <td>1</td>\n",
       "      <td>0</td>\n",
       "      <td>0</td>\n",
       "      <td>0</td>\n",
       "      <td>1</td>\n",
       "      <td>0.0</td>\n",
       "    </tr>\n",
       "    <tr>\n",
       "      <th>3</th>\n",
       "      <td>0</td>\n",
       "      <td>0</td>\n",
       "      <td>1</td>\n",
       "      <td>0</td>\n",
       "      <td>0</td>\n",
       "      <td>0</td>\n",
       "      <td>35.0</td>\n",
       "    </tr>\n",
       "    <tr>\n",
       "      <th>4</th>\n",
       "      <td>0</td>\n",
       "      <td>0</td>\n",
       "      <td>1</td>\n",
       "      <td>0</td>\n",
       "      <td>0</td>\n",
       "      <td>0</td>\n",
       "      <td>35.0</td>\n",
       "    </tr>\n",
       "  </tbody>\n",
       "</table>\n",
       "</div>"
      ],
      "text/plain": [
       "   amu_signup  upsell_marketing  streaming_tier  play_days  songs_listened  \\\n",
       "0           0                 0               1          0               0   \n",
       "1           0                 1               0         30             120   \n",
       "2           0                 1               0          0               0   \n",
       "3           0                 0               1          0               0   \n",
       "4           0                 0               1          0               0   \n",
       "\n",
       "   other_subscriptions  retail_spending  \n",
       "0                    0             35.0  \n",
       "1                    0              0.0  \n",
       "2                    1              0.0  \n",
       "3                    0             35.0  \n",
       "4                    0             35.0  "
      ]
     },
     "execution_count": 8,
     "metadata": {},
     "output_type": "execute_result"
    }
   ],
   "source": [
    "# Observational data\n",
    "observational_df.head()"
   ]
  },
  {
   "cell_type": "markdown",
   "id": "8e8114df",
   "metadata": {},
   "source": [
    "### True Causal Effects\n"
   ]
  },
  {
   "cell_type": "code",
   "execution_count": 9,
   "id": "54c60234",
   "metadata": {},
   "outputs": [
    {
     "data": {
      "text/html": [
       "<div>\n",
       "<style scoped>\n",
       "    .dataframe tbody tr th:only-of-type {\n",
       "        vertical-align: middle;\n",
       "    }\n",
       "\n",
       "    .dataframe tbody tr th {\n",
       "        vertical-align: top;\n",
       "    }\n",
       "\n",
       "    .dataframe thead th {\n",
       "        text-align: right;\n",
       "    }\n",
       "</style>\n",
       "<table border=\"1\" class=\"dataframe\">\n",
       "  <thead>\n",
       "    <tr style=\"text-align: right;\">\n",
       "      <th></th>\n",
       "      <th>amu_signup</th>\n",
       "      <th>y_0_propensity</th>\n",
       "      <th>y_1_propensity</th>\n",
       "      <th>individual_treatment_effect</th>\n",
       "      <th>upsell_marketing</th>\n",
       "      <th>upsell_confounding_propensity</th>\n",
       "      <th>upsell_marketing_rct</th>\n",
       "      <th>streaming_tier</th>\n",
       "      <th>play_days</th>\n",
       "      <th>songs_listened</th>\n",
       "      <th>other_subscriptions</th>\n",
       "      <th>retail_spending</th>\n",
       "    </tr>\n",
       "  </thead>\n",
       "  <tbody>\n",
       "    <tr>\n",
       "      <th>0</th>\n",
       "      <td>0</td>\n",
       "      <td>0.05</td>\n",
       "      <td>0.056537</td>\n",
       "      <td>0.006537</td>\n",
       "      <td>0</td>\n",
       "      <td>0.066149</td>\n",
       "      <td>1</td>\n",
       "      <td>1</td>\n",
       "      <td>0</td>\n",
       "      <td>0</td>\n",
       "      <td>0</td>\n",
       "      <td>35.0</td>\n",
       "    </tr>\n",
       "    <tr>\n",
       "      <th>1</th>\n",
       "      <td>0</td>\n",
       "      <td>0.05</td>\n",
       "      <td>0.273846</td>\n",
       "      <td>0.223846</td>\n",
       "      <td>1</td>\n",
       "      <td>0.896923</td>\n",
       "      <td>1</td>\n",
       "      <td>0</td>\n",
       "      <td>30</td>\n",
       "      <td>120</td>\n",
       "      <td>0</td>\n",
       "      <td>0.0</td>\n",
       "    </tr>\n",
       "    <tr>\n",
       "      <th>2</th>\n",
       "      <td>0</td>\n",
       "      <td>0.05</td>\n",
       "      <td>0.020000</td>\n",
       "      <td>-0.030000</td>\n",
       "      <td>1</td>\n",
       "      <td>0.320000</td>\n",
       "      <td>0</td>\n",
       "      <td>0</td>\n",
       "      <td>0</td>\n",
       "      <td>0</td>\n",
       "      <td>1</td>\n",
       "      <td>0.0</td>\n",
       "    </tr>\n",
       "    <tr>\n",
       "      <th>3</th>\n",
       "      <td>0</td>\n",
       "      <td>0.05</td>\n",
       "      <td>0.056537</td>\n",
       "      <td>0.006537</td>\n",
       "      <td>0</td>\n",
       "      <td>0.066149</td>\n",
       "      <td>1</td>\n",
       "      <td>1</td>\n",
       "      <td>0</td>\n",
       "      <td>0</td>\n",
       "      <td>0</td>\n",
       "      <td>35.0</td>\n",
       "    </tr>\n",
       "    <tr>\n",
       "      <th>4</th>\n",
       "      <td>0</td>\n",
       "      <td>0.05</td>\n",
       "      <td>0.056537</td>\n",
       "      <td>0.006537</td>\n",
       "      <td>0</td>\n",
       "      <td>0.066149</td>\n",
       "      <td>1</td>\n",
       "      <td>1</td>\n",
       "      <td>0</td>\n",
       "      <td>0</td>\n",
       "      <td>0</td>\n",
       "      <td>35.0</td>\n",
       "    </tr>\n",
       "  </tbody>\n",
       "</table>\n",
       "</div>"
      ],
      "text/plain": [
       "   amu_signup  y_0_propensity  y_1_propensity  individual_treatment_effect  \\\n",
       "0           0            0.05        0.056537                     0.006537   \n",
       "1           0            0.05        0.273846                     0.223846   \n",
       "2           0            0.05        0.020000                    -0.030000   \n",
       "3           0            0.05        0.056537                     0.006537   \n",
       "4           0            0.05        0.056537                     0.006537   \n",
       "\n",
       "   upsell_marketing  upsell_confounding_propensity  upsell_marketing_rct  \\\n",
       "0                 0                       0.066149                     1   \n",
       "1                 1                       0.896923                     1   \n",
       "2                 1                       0.320000                     0   \n",
       "3                 0                       0.066149                     1   \n",
       "4                 0                       0.066149                     1   \n",
       "\n",
       "   streaming_tier  play_days  songs_listened  other_subscriptions  \\\n",
       "0               1          0               0                    0   \n",
       "1               0         30             120                    0   \n",
       "2               0          0               0                    1   \n",
       "3               1          0               0                    0   \n",
       "4               1          0               0                    0   \n",
       "\n",
       "   retail_spending  \n",
       "0             35.0  \n",
       "1              0.0  \n",
       "2              0.0  \n",
       "3             35.0  \n",
       "4             35.0  "
      ]
     },
     "execution_count": 9,
     "metadata": {},
     "output_type": "execute_result"
    }
   ],
   "source": [
    "potential_outcomes_df.head()"
   ]
  },
  {
   "cell_type": "markdown",
   "id": "f9e06827",
   "metadata": {},
   "source": [
    "### Dangers of Unadjusted Estimates"
   ]
  },
  {
   "cell_type": "code",
   "execution_count": 10,
   "id": "7ed28815",
   "metadata": {},
   "outputs": [
    {
     "name": "stdout",
     "output_type": "stream",
     "text": [
      "Signup rates by treatment group:\n",
      "upsell_marketing\n",
      "0    0.048706\n",
      "1    0.110350\n",
      "Name: amu_signup, dtype: float64\n"
     ]
    },
    {
     "data": {
      "image/png": "[encoded data removed]",
      "text/plain": [
       "<Figure size 800x600 with 1 Axes>"
      ]
     },
     "metadata": {},
     "output_type": "display_data"
    }
   ],
   "source": [
    "# Check treatment effect\n",
    "signup_rate_by_treatment = potential_outcomes_df.groupby('upsell_marketing')['amu_signup'].mean()\n",
    "print(f\"Signup rates by treatment group:\\n{signup_rate_by_treatment}\")\n",
    "\n",
    "# Plot distribution\n",
    "plt.figure(figsize=(8, 6))\n",
    "potential_outcomes_df.groupby('upsell_marketing')['amu_signup'].mean().plot(kind='bar', color=['tab:blue', 'tab:green'])\n",
    "plt.title(\"Signup Rate by Upsell Message Exposure\")\n",
    "plt.xlabel(\"Upsell Marketing (0 = No, 1 = Yes)\")\n",
    "plt.ylabel(\"Signup Rate\")\n",
    "plt.xticks(rotation=0)\n",
    "plt.show()"
   ]
  },
  {
   "cell_type": "code",
   "execution_count": 11,
   "id": "34b8f360",
   "metadata": {},
   "outputs": [
    {
     "name": "stdout",
     "output_type": "stream",
     "text": [
      "Biased Marketing Lift: 6.16%\n",
      "Acutal Marketing Lift: 2.69%\n"
     ]
    }
   ],
   "source": [
    "biased_lift = (\n",
    "    (potential_outcomes_df['amu_signup'][potential_outcomes_df.upsell_marketing==1].mean()) - \n",
    "    (potential_outcomes_df['amu_signup'][potential_outcomes_df.upsell_marketing==0].mean())\n",
    ")\n",
    "\n",
    "actual_lift = potential_outcomes_df.individual_treatment_effect.mean()\n",
    "print(\n",
    "    f'Biased Marketing Lift: {biased_lift:.2%}',\n",
    "    f'Acutal Marketing Lift: {actual_lift:.2%}', \n",
    "    sep='\\n'\n",
    ")"
   ]
  }
 ],
 "metadata": {
  "kernelspec": {
   "display_name": "venv (3.10.11)",
   "language": "python",
   "name": "python3"
  },
  "language_info": {
   "codemirror_mode": {
    "name": "ipython",
    "version": 3
   },
   "file_extension": ".py",
   "mimetype": "text/x-python",
   "name": "python",
   "nbconvert_exporter": "python",
   "pygments_lexer": "ipython3",
   "version": "3.10.11"
  }
 },
 "nbformat": 4,
 "nbformat_minor": 5
}
