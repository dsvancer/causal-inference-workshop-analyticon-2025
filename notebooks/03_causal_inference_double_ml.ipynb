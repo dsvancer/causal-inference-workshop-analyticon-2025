{
 "cells": [
  {
   "cell_type": "markdown",
   "id": "02e9808e",
   "metadata": {},
   "source": [
    "# Causal Inference with Double Machine Learning\n",
    "\n",
    "<center>\n",
    "<img \n",
    "  src=\"../assets/double_ml.png\" \n",
    "  alt=\"Confounding Relationships\" \n",
    "  style=\"width:300px;height:auto;\"\n",
    "> "
   ]
  },
  {
   "cell_type": "code",
   "execution_count": 19,
   "id": "9618d178",
   "metadata": {},
   "outputs": [],
   "source": [
    "import pandas as pd\n",
    "import numpy as np\n",
    "import matplotlib.pyplot as plt\n",
    "import seaborn as sns\n",
    "import warnings\n",
    "warnings.filterwarnings('ignore')\n",
    "\n",
    "# Set style\n",
    "sns.set_style(\"whitegrid\") \n",
    "sns.set_palette('viridis')\n",
    "plt.rcParams['axes.spines.top'] = False\n",
    "plt.rcParams['axes.spines.right'] = False\n",
    "plt.rcParams['font.family'] = 'monospace'\n",
    "\n",
    "## Double ML\n",
    "from doubleml import DoubleMLData, DoubleMLPLR\n",
    "from sklearn.linear_model import LogisticRegression, LinearRegression\n",
    "from sklearn.ensemble import RandomForestClassifier"
   ]
  },
  {
   "cell_type": "code",
   "execution_count": 20,
   "id": "430b19b2",
   "metadata": {},
   "outputs": [
    {
     "name": "stdout",
     "output_type": "stream",
     "text": [
      "Customer Features:  ['streaming_tier_prime', 'play_days', 'songs_listened', 'other_subscriptions', 'retail_spending']\n"
     ]
    },
    {
     "data": {
      "text/html": [
       "<div>\n",
       "<style scoped>\n",
       "    .dataframe tbody tr th:only-of-type {\n",
       "        vertical-align: middle;\n",
       "    }\n",
       "\n",
       "    .dataframe tbody tr th {\n",
       "        vertical-align: top;\n",
       "    }\n",
       "\n",
       "    .dataframe thead th {\n",
       "        text-align: right;\n",
       "    }\n",
       "</style>\n",
       "<table border=\"1\" class=\"dataframe\">\n",
       "  <thead>\n",
       "    <tr style=\"text-align: right;\">\n",
       "      <th></th>\n",
       "      <th>amu_signup</th>\n",
       "      <th>upsell_marketing</th>\n",
       "      <th>streaming_tier_prime</th>\n",
       "      <th>play_days</th>\n",
       "      <th>songs_listened</th>\n",
       "      <th>other_subscriptions</th>\n",
       "      <th>retail_spending</th>\n",
       "    </tr>\n",
       "  </thead>\n",
       "  <tbody>\n",
       "    <tr>\n",
       "      <th>0</th>\n",
       "      <td>0</td>\n",
       "      <td>0</td>\n",
       "      <td>1</td>\n",
       "      <td>0</td>\n",
       "      <td>0</td>\n",
       "      <td>0</td>\n",
       "      <td>35.0</td>\n",
       "    </tr>\n",
       "    <tr>\n",
       "      <th>1</th>\n",
       "      <td>0</td>\n",
       "      <td>1</td>\n",
       "      <td>0</td>\n",
       "      <td>30</td>\n",
       "      <td>120</td>\n",
       "      <td>0</td>\n",
       "      <td>0.0</td>\n",
       "    </tr>\n",
       "    <tr>\n",
       "      <th>2</th>\n",
       "      <td>0</td>\n",
       "      <td>1</td>\n",
       "      <td>0</td>\n",
       "      <td>0</td>\n",
       "      <td>0</td>\n",
       "      <td>1</td>\n",
       "      <td>0.0</td>\n",
       "    </tr>\n",
       "    <tr>\n",
       "      <th>3</th>\n",
       "      <td>0</td>\n",
       "      <td>0</td>\n",
       "      <td>1</td>\n",
       "      <td>0</td>\n",
       "      <td>0</td>\n",
       "      <td>0</td>\n",
       "      <td>35.0</td>\n",
       "    </tr>\n",
       "    <tr>\n",
       "      <th>4</th>\n",
       "      <td>0</td>\n",
       "      <td>0</td>\n",
       "      <td>1</td>\n",
       "      <td>0</td>\n",
       "      <td>0</td>\n",
       "      <td>0</td>\n",
       "      <td>35.0</td>\n",
       "    </tr>\n",
       "  </tbody>\n",
       "</table>\n",
       "</div>"
      ],
      "text/plain": [
       "   amu_signup  upsell_marketing  streaming_tier_prime  play_days  \\\n",
       "0           0                 0                     1          0   \n",
       "1           0                 1                     0         30   \n",
       "2           0                 1                     0          0   \n",
       "3           0                 0                     1          0   \n",
       "4           0                 0                     1          0   \n",
       "\n",
       "   songs_listened  other_subscriptions  retail_spending  \n",
       "0               0                    0             35.0  \n",
       "1             120                    0              0.0  \n",
       "2               0                    1              0.0  \n",
       "3               0                    0             35.0  \n",
       "4               0                    0             35.0  "
      ]
     },
     "execution_count": 20,
     "metadata": {},
     "output_type": "execute_result"
    }
   ],
   "source": [
    "# Load observational dataset\n",
    "observational_df = pd.read_pickle('../data/observational_df.pkl')\n",
    "\n",
    "# Identify columns\n",
    "customer_features = observational_df.drop(columns=['amu_signup', 'upsell_marketing']).columns.to_list()\n",
    "target_outcome = 'amu_signup'\n",
    "\n",
    "print('Customer Features: ', customer_features)\n",
    "\n",
    "observational_df.head(5)"
   ]
  },
  {
   "cell_type": "markdown",
   "id": "eba191a5",
   "metadata": {},
   "source": [
    "## Causal Assumptions\n",
    "All causal models share the following data assumptions\n",
    "\n",
    "<br>\n",
    "<br>\n",
    "\n",
    "<center>\n",
    "<img \n",
    "  src=\"../assets/causal_assumptions.png\" \n",
    "  alt=\"Causal Assumptions\" \n",
    "  style=\"width:750px;height:auto;\"\n",
    "> \n",
    "\n",
    "<br>\n",
    "<br>\n",
    "<br>"
   ]
  },
  {
   "cell_type": "markdown",
   "id": "d03af327",
   "metadata": {},
   "source": [
    "## Double Machine Learning Model Families\n",
    "\n",
    "The `doubleml` package has a number of models that can be used for various causal effects estimation tasks based on the assumed casual mechanisms present in observational data. \n",
    "\n",
    "All available model types are listed in their [model documentation](https://docs.doubleml.org/stable/guide/models.html)\n",
    "\n",
    "We will be used the PLR model, which is the most common model when we have confounding due to customer features. The causal diagram for this model is shown below\n",
    "\n",
    "<br>\n",
    "<br>\n",
    "\n",
    "<center>\n",
    "<img \n",
    "  src=\"../assets/plr_model.png\" \n",
    "  alt=\"Confounding Relationships\" \n",
    "  style=\"width:550px;height:auto;\"\n",
    "> "
   ]
  },
  {
   "cell_type": "markdown",
   "id": "31a1fe75",
   "metadata": {},
   "source": [
    "### Creating DoubleML Datasets"
   ]
  },
  {
   "cell_type": "code",
   "execution_count": 21,
   "id": "a26b24e2",
   "metadata": {},
   "outputs": [
    {
     "name": "stdout",
     "output_type": "stream",
     "text": [
      "================== DoubleMLData Object ==================\n",
      "\n",
      "------------------ Data summary      ------------------\n",
      "Outcome variable: amu_signup\n",
      "Treatment variable(s): ['upsell_marketing']\n",
      "Covariates: ['streaming_tier_prime', 'play_days', 'songs_listened', 'other_subscriptions', 'retail_spending']\n",
      "Instrument variable(s): None\n",
      "No. Observations: 10000\n",
      "\n",
      "------------------ DataFrame info    ------------------\n",
      "<class 'pandas.core.frame.DataFrame'>\n",
      "RangeIndex: 10000 entries, 0 to 9999\n",
      "Columns: 7 entries, amu_signup to retail_spending\n",
      "dtypes: float64(1), int64(6)\n",
      "memory usage: 547.0 KB\n",
      "\n"
     ]
    }
   ],
   "source": [
    "music_dml_data = (\n",
    "    DoubleMLData(\n",
    "        data=observational_df,\n",
    "        y_col='amu_signup',\n",
    "        d_cols='upsell_marketing',\n",
    "        x_cols=customer_features,\n",
    "        use_other_treat_as_covariate=False)\n",
    ")\n",
    "\n",
    "print(music_dml_data)"
   ]
  },
  {
   "cell_type": "markdown",
   "id": "b8459482",
   "metadata": {},
   "source": [
    "### Defining the Various ML Models\n",
    "\n",
    "<br>\n",
    "<br>\n",
    "\n",
    "<center>\n",
    "<img \n",
    "  src=\"../assets/double_ml_process.png\" \n",
    "  alt=\"Double ML Process\" \n",
    "  style=\"width:750px;height:auto;\"\n",
    "> \n",
    "\n",
    "<br>\n",
    "<br>\n",
    "<br>"
   ]
  },
  {
   "cell_type": "code",
   "execution_count": 22,
   "id": "39aa132d",
   "metadata": {},
   "outputs": [],
   "source": [
    "# Specify the model components\n",
    "## Set random seed for reproducability\n",
    "np.random.seed(314)\n",
    "\n",
    "# Outcome and treatment models\n",
    "outcome_model = RandomForestClassifier(random_state=314)\n",
    "\n",
    "treatment_model = RandomForestClassifier(random_state=314)\n",
    "\n",
    "# DML model\n",
    "dml_model = DoubleMLPLR(\n",
    "    music_dml_data,\n",
    "    ml_l=outcome_model,\n",
    "    ml_m=treatment_model,\n",
    "    n_folds=5)"
   ]
  },
  {
   "cell_type": "code",
   "execution_count": 23,
   "id": "457d5da7",
   "metadata": {},
   "outputs": [],
   "source": [
    "# Fit the model\n",
    "dml_model.fit();"
   ]
  },
  {
   "cell_type": "code",
   "execution_count": 24,
   "id": "5b02d20e",
   "metadata": {},
   "outputs": [
    {
     "data": {
      "text/html": [
       "<div>\n",
       "<style scoped>\n",
       "    .dataframe tbody tr th:only-of-type {\n",
       "        vertical-align: middle;\n",
       "    }\n",
       "\n",
       "    .dataframe tbody tr th {\n",
       "        vertical-align: top;\n",
       "    }\n",
       "\n",
       "    .dataframe thead th {\n",
       "        text-align: right;\n",
       "    }\n",
       "</style>\n",
       "<table border=\"1\" class=\"dataframe\">\n",
       "  <thead>\n",
       "    <tr style=\"text-align: right;\">\n",
       "      <th></th>\n",
       "      <th>coef</th>\n",
       "      <th>std err</th>\n",
       "      <th>t</th>\n",
       "      <th>P&gt;|t|</th>\n",
       "      <th>2.5 %</th>\n",
       "      <th>97.5 %</th>\n",
       "    </tr>\n",
       "  </thead>\n",
       "  <tbody>\n",
       "    <tr>\n",
       "      <th>upsell_marketing</th>\n",
       "      <td>2.64%</td>\n",
       "      <td>0.69%</td>\n",
       "      <td>383.64%</td>\n",
       "      <td>0.01%</td>\n",
       "      <td>1.29%</td>\n",
       "      <td>3.99%</td>\n",
       "    </tr>\n",
       "  </tbody>\n",
       "</table>\n",
       "</div>"
      ],
      "text/plain": [
       "                   coef std err        t  P>|t|  2.5 % 97.5 %\n",
       "upsell_marketing  2.64%   0.69%  383.64%  0.01%  1.29%  3.99%"
      ]
     },
     "execution_count": 24,
     "metadata": {},
     "output_type": "execute_result"
    }
   ],
   "source": [
    "# View treatment effect estimates\n",
    "dml_model.summary.applymap('{:.2%}'.format)"
   ]
  },
  {
   "cell_type": "markdown",
   "id": "43559fef",
   "metadata": {},
   "source": [
    "## Closing Remarks\n",
    "\n",
    "Why hasn't causal ML taken over the world? \n",
    "\n",
    "- We have highly efficient methods for a wide range of estimation problems\n",
    "- State of the art techniques are still relatively new, especially advanced Double ML methods\n",
    "- It’s complicated\n",
    "    - ML, semi-parametric statistical theory, probabilistic grapghical models, matrix calculs, ... 🤯\n",
    "\n",
    "<br>\n",
    "<br>\n",
    "<br>\n",
    "<center>\n",
    "<img \n",
    "  src=\"../assets/complicated.png\" \n",
    "  alt=\"It's complicated\" \n",
    "  style=\"width:300px;height:auto;\"\n",
    "> "
   ]
  }
 ],
 "metadata": {
  "kernelspec": {
   "display_name": "venv (3.10.11)",
   "language": "python",
   "name": "python3"
  },
  "language_info": {
   "codemirror_mode": {
    "name": "ipython",
    "version": 3
   },
   "file_extension": ".py",
   "mimetype": "text/x-python",
   "name": "python",
   "nbconvert_exporter": "python",
   "pygments_lexer": "ipython3",
   "version": "3.10.11"
  }
 },
 "nbformat": 4,
 "nbformat_minor": 5
}
