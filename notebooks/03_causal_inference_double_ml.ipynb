{
 "cells": [
  {
   "cell_type": "markdown",
   "id": "02e9808e",
   "metadata": {},
   "source": [
    "# Causal Inference with Double Machine Learning\n",
    "\n",
    "<center>\n",
    "<img \n",
    "  src=\"../assets/double_ml.png\" \n",
    "  alt=\"Confounding Relationships\" \n",
    "  style=\"width:300px;height:auto;\"\n",
    "> "
   ]
  },
  {
   "cell_type": "code",
   "execution_count": null,
   "id": "9618d178",
   "metadata": {},
   "outputs": [],
   "source": [
    "import pandas as pd\n",
    "import numpy as np\n",
    "import matplotlib.pyplot as plt\n",
    "import seaborn as sns\n",
    "import warnings\n",
    "warnings.filterwarnings('ignore')\n",
    "\n",
    "# Set style\n",
    "sns.set_style(\"whitegrid\") \n",
    "sns.set_palette('viridis')\n",
    "plt.rcParams['axes.spines.top'] = False\n",
    "plt.rcParams['axes.spines.right'] = False\n",
    "plt.rcParams['font.family'] = 'monospace'\n",
    "\n",
    "## Double ML\n",
    "from doubleml import DoubleMLData, DoubleMLPLR\n",
    "from sklearn.linear_model import LogisticRegression, LinearRegression\n",
    "from sklearn.ensemble import RandomForestClassifier"
   ]
  },
  {
   "cell_type": "code",
   "execution_count": null,
   "id": "430b19b2",
   "metadata": {},
   "outputs": [],
   "source": [
    "# Load observational dataset\n",
    "observational_df = pd.read_pickle('../data/observational_df.pkl')\n",
    "\n",
    "# Identify columns\n",
    "customer_features = observational_df.drop(columns=['amu_signup', 'upsell_marketing']).columns.to_list()\n",
    "target_outcome = 'amu_signup'\n",
    "\n",
    "print('Customer Features: ', customer_features)\n",
    "\n",
    "observational_df.head(5)"
   ]
  },
  {
   "cell_type": "markdown",
   "id": "eba191a5",
   "metadata": {},
   "source": [
    "## Causal Assumptions\n",
    "All causal models share the following data assumptions\n",
    "\n",
    "<br>\n",
    "<br>\n",
    "\n",
    "<center>\n",
    "<img \n",
    "  src=\"../assets/causal_assumptions.png\" \n",
    "  alt=\"Causal Assumptions\" \n",
    "  style=\"width:750px;height:auto;\"\n",
    "> \n",
    "\n",
    "<br>\n",
    "<br>\n",
    "<br>"
   ]
  },
  {
   "cell_type": "markdown",
   "id": "d03af327",
   "metadata": {},
   "source": [
    "## Double Machine Learning Model Families\n",
    "\n",
    "The `doubleml` package has a number of models that can be used for various causal effects estimation tasks based on the assumed casual mechanisms present in observational data. \n",
    "\n",
    "All available model types are listed in their [model documentation](https://docs.doubleml.org/stable/guide/models.html)\n",
    "\n",
    "We will be used the PLR model, which is the most common model when we have confounding due to customer features. The causal diagram for this model is shown below\n",
    "\n",
    "<br>\n",
    "<br>\n",
    "\n",
    "<center>\n",
    "<img \n",
    "  src=\"../assets/plr_model.png\" \n",
    "  alt=\"Confounding Relationships\" \n",
    "  style=\"width:550px;height:auto;\"\n",
    "> "
   ]
  },
  {
   "cell_type": "markdown",
   "id": "31a1fe75",
   "metadata": {},
   "source": [
    "### Creating DoubleML Datasets"
   ]
  },
  {
   "cell_type": "code",
   "execution_count": null,
   "id": "a26b24e2",
   "metadata": {},
   "outputs": [],
   "source": [
    "music_dml_data = (\n",
    "    DoubleMLData(\n",
    "        data=observational_df,\n",
    "        y_col='amu_signup',\n",
    "        d_cols='upsell_marketing',\n",
    "        x_cols=customer_features,\n",
    "        use_other_treat_as_covariate=False)\n",
    ")\n",
    "\n",
    "print(music_dml_data)"
   ]
  },
  {
   "cell_type": "markdown",
   "id": "b8459482",
   "metadata": {},
   "source": [
    "### Defining the Various ML Models\n",
    "\n",
    "<br>\n",
    "<br>\n",
    "\n",
    "<center>\n",
    "<img \n",
    "  src=\"../assets/double_ml_process.png\" \n",
    "  alt=\"Double ML Process\" \n",
    "  style=\"width:750px;height:auto;\"\n",
    "> \n",
    "\n",
    "<br>\n",
    "<br>\n",
    "<br>"
   ]
  },
  {
   "cell_type": "code",
   "execution_count": null,
   "id": "39aa132d",
   "metadata": {},
   "outputs": [],
   "source": [
    "# Specify the model components\n",
    "## Set random seed for reproducability\n",
    "np.random.seed(314)\n",
    "\n",
    "# Outcome and treatment models\n",
    "outcome_model = RandomForestClassifier(random_state=314)\n",
    "\n",
    "treatment_model = RandomForestClassifier(random_state=314)\n",
    "\n",
    "# DML model\n",
    "dml_model = DoubleMLPLR(\n",
    "    music_dml_data,\n",
    "    ml_l=outcome_model,\n",
    "    ml_m=treatment_model,\n",
    "    n_folds=5)"
   ]
  },
  {
   "cell_type": "code",
   "execution_count": null,
   "id": "457d5da7",
   "metadata": {},
   "outputs": [],
   "source": [
    "# Fit the model\n",
    "dml_model.fit();"
   ]
  },
  {
   "cell_type": "code",
   "execution_count": null,
   "id": "5b02d20e",
   "metadata": {},
   "outputs": [],
   "source": [
    "# View treatment effect estimates\n",
    "dml_model.summary.applymap('{:.2%}'.format)"
   ]
  },
  {
   "cell_type": "markdown",
   "id": "43559fef",
   "metadata": {},
   "source": [
    "## Closing Remarks\n",
    "\n",
    "Why hasn't causal ML taken over the world? \n",
    "\n",
    "- We have highly efficient methods for a wide range of estimation problems\n",
    "- State of the art techniques are still relatively new, especially advanced Double ML methods\n",
    "- It’s complicated\n",
    "    - ML, semi-parametric statistical theory, probabilistic grapghical models, matrix calculs, ... 🤯\n",
    "\n",
    "<br>\n",
    "<br>\n",
    "<br>\n",
    "<center>\n",
    "<img \n",
    "  src=\"../assets/complicated.png\" \n",
    "  alt=\"It's complicated\" \n",
    "  style=\"width:300px;height:auto;\"\n",
    "> \n",
    "\n",
    "<br>\n",
    "<br>"
   ]
  },
  {
   "cell_type": "markdown",
   "id": "72a2c4ba",
   "metadata": {},
   "source": [
    "The good news is that since causal ML requires deep understanding of business processes and reasoning about the underlying causal mechanisms, it is safe from the AI takeover\n",
    "\n",
    "<br>\n",
    "<br>\n",
    "<br>\n",
    "<center>\n",
    "<img \n",
    "  src=\"../assets/safe_from_agi.png\" \n",
    "  alt=\"AGI is here\" \n",
    "  style=\"width:300px;height:auto;\"\n",
    "> \n",
    "\n",
    "<br>\n",
    "<br>"
   ]
  },
  {
   "cell_type": "markdown",
   "id": "a4c7d820",
   "metadata": {},
   "source": []
  }
 ],
 "metadata": {
  "kernelspec": {
   "display_name": "venv (3.10.11)",
   "language": "python",
   "name": "python3"
  },
  "language_info": {
   "codemirror_mode": {
    "name": "ipython",
    "version": 3
   },
   "file_extension": ".py",
   "mimetype": "text/x-python",
   "name": "python",
   "nbconvert_exporter": "python",
   "pygments_lexer": "ipython3",
   "version": "3.10.11"
  }
 },
 "nbformat": 4,
 "nbformat_minor": 5
}
