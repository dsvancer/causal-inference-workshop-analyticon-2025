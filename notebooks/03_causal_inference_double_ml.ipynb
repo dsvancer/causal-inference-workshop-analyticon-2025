{
 "cells": [
  {
   "cell_type": "markdown",
   "id": "02e9808e",
   "metadata": {},
   "source": [
    "# Causal Inference with Double Machine Learning"
   ]
  },
  {
   "cell_type": "code",
   "execution_count": null,
   "id": "9618d178",
   "metadata": {},
   "outputs": [],
   "source": [
    "import doubleml"
   ]
  }
 ],
 "metadata": {
  "language_info": {
   "name": "python"
  }
 },
 "nbformat": 4,
 "nbformat_minor": 5
}
