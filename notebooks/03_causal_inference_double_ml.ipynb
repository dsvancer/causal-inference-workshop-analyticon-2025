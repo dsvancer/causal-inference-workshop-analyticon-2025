{
 "cells": [
  {
   "cell_type": "markdown",
   "id": "02e9808e",
   "metadata": {},
   "source": [
    "# Causal Inference with Double Machine Learning\n",
    "\n",
    "<center>\n",
    "<img \n",
    "  src=\"../assets/double_ml.png\" \n",
    "  alt=\"Confounding Relationships\" \n",
    "  style=\"width:300px;height:auto;\"\n",
    "> "
   ]
  },
  {
   "cell_type": "code",
   "execution_count": null,
   "id": "9618d178",
   "metadata": {},
   "outputs": [],
   "source": [
    "import doubleml"
   ]
  }
 ],
 "metadata": {
  "kernelspec": {
   "display_name": "venv (3.10.11)",
   "language": "python",
   "name": "python3"
  },
  "language_info": {
   "name": "python",
   "version": "3.10.11"
  }
 },
 "nbformat": 4,
 "nbformat_minor": 5
}
