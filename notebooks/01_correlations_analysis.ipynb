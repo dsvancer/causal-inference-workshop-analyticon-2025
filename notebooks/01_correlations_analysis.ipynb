{
 "cells": [
  {
   "cell_type": "markdown",
   "id": "6c92ea9e",
   "metadata": {},
   "source": [
    "# Discovering Relationships with Measures of Association"
   ]
  },
  {
   "cell_type": "code",
   "execution_count": 2,
   "id": "a38e881b",
   "metadata": {},
   "outputs": [],
   "source": [
    "import pandas as pd\n",
    "import pytimetk as tk"
   ]
  }
 ],
 "metadata": {
  "kernelspec": {
   "display_name": "venv (3.9.6)",
   "language": "python",
   "name": "python3"
  },
  "language_info": {
   "codemirror_mode": {
    "name": "ipython",
    "version": 3
   },
   "file_extension": ".py",
   "mimetype": "text/x-python",
   "name": "python",
   "nbconvert_exporter": "python",
   "pygments_lexer": "ipython3",
   "version": "3.9.6"
  }
 },
 "nbformat": 4,
 "nbformat_minor": 5
}
