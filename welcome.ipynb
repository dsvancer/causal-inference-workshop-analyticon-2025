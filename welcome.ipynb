{
 "cells": [
  {
   "cell_type": "markdown",
   "id": "1054c673",
   "metadata": {},
   "source": [
    "# Welcome to Causal Inference with Observational Data\n",
    "\n",
    "<center>\n",
    "<img \n",
    "  src=\"assets/analyticon_logo.png\" \n",
    "  alt=\"Analyticon Logo 2025\" \n",
    "  style=\"width:600px;height:auto;\"\n",
    "> "
   ]
  },
  {
   "cell_type": "markdown",
   "id": "12e998a1",
   "metadata": {},
   "source": [
    "Hello, World!\n",
    "\n",
    "Navigate to the `notebooks` folder to get started and code along with us"
   ]
  },
  {
   "cell_type": "markdown",
   "id": "3649ca4c",
   "metadata": {},
   "source": []
  }
 ],
 "metadata": {
  "language_info": {
   "name": "python"
  }
 },
 "nbformat": 4,
 "nbformat_minor": 5
}
