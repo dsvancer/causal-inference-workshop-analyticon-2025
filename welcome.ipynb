{
 "cells": [
  {
   "cell_type": "markdown",
   "id": "1054c673",
   "metadata": {},
   "source": [
    "# Welcome to Causal Inference with Observational Data\n",
    "\n",
    "<center>\n",
    "<img \n",
    "  src=\"assets/analyticon_logo.png\" \n",
    "  alt=\"Analyticon Logo 2025\" \n",
    "  style=\"width:600px;height:auto;\"\n",
    "> "
   ]
  },
  {
   "cell_type": "markdown",
   "id": "12e998a1",
   "metadata": {},
   "source": [
    "## Topics\n",
    "Causal inference is a fundamental problem in many fields, including economics, epidemiology, and social sciences, where understanding the causal relationships between variables is crucial for informed decision-making. In many cases, randomized controlled trials (RCTs) are not feasible or ethical, and researchers must rely on observational data to draw causal conclusions. However, observational data are often confounded by unmeasured variables, making it challenging to separate causal from non-causal relationships. In this training, we will introduce the potential outcomes framework, which provides a foundation for causal inference. We will then discuss several popular methods for estimating causal effects, including propensity score matching, inverse propensity scoring, outcome regression, and double machine learning. These methods aim to remove confounding bias and identify the causal effect of a treatment or intervention on an outcome variable. We will discuss the strengths and limitations of each method, as well as provide hands-on training to their applications in real-world scenarios.\n",
    "\n",
    "## Applied Coding Sessions\n",
    "This workshop includes several applied coding sessions where we demonstrate causal inference techniques with Python.\n",
    "\n",
    "We will cover the following high-level tops:\n",
    "- Analyzing associations in observational data\n",
    "- Introduction to modeling with `scikit-learn`\n",
    "- Causal effects estimations with double machine learning methods\n",
    "\n",
    "\n",
    "Navigate to the `notebooks` folder to get started and code along with us!"
   ]
  },
  {
   "cell_type": "markdown",
   "id": "3649ca4c",
   "metadata": {},
   "source": []
  }
 ],
 "metadata": {
  "language_info": {
   "name": "python"
  }
 },
 "nbformat": 4,
 "nbformat_minor": 5
}
